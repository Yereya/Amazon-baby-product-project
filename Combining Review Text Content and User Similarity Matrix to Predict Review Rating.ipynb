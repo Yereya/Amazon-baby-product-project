{
 "cells": [
  {
   "cell_type": "markdown",
   "metadata": {},
   "source": [
    "# Combining Review Text Content and User Similarity Matrix to Predict Review Rating\n",
    "\n",
    "In this notebook we will be documenting our attempt of following the work done in [this](https://www.ncbi.nlm.nih.gov/pmc/articles/PMC4735905/) research published by Bingkun Wang, Yongfeng Huang, and Xing Li at Computational Intelligence and Neuroscience Journal.\n",
    "\n",
    "\n",
    "*The data*\n",
    "\n",
    "Our dataset is the Amazon baby products reviews dataset that was released by Amazon and can be found [here](http://jmcauley.ucsd.edu/data/amazon/links.html). At this point I want to thank Julian McAuley, assistant professor at UCSD, for his help with getting the data. In addition, we are thankful to Mandeep Kaur for the great work he did formerly with the Amazon DB.\n",
    "\n",
    "*The Thesis*\n",
    "\n",
    "We will try to prove that combining the formerly known data about each user's similarity to other users, with the sentiment analysis of the review text itself, will help us improve the model prediction of what rate the user's review will get.\n",
    "\n",
    "\n",
    "*The workflow*\n",
    "\n",
    "As a first step, we will perform Review Rating Prediction (hence forward will be referred as RRP) based on Review Text Content (RTC) on our data.\n",
    "The next step will be to apply a neighbors analysis to perform RRP based on the similarity between users.\n",
    "Finally, we will compare the three methods (RRP based on RTC, RRP based on neighbors analysis and the combination of the two) and declare the best method."
   ]
  },
  {
   "cell_type": "markdown",
   "metadata": {},
   "source": [
    "### Getting started\n",
    "\n",
    "Some necessary imports"
   ]
  },
  {
   "cell_type": "code",
   "execution_count": 2,
   "metadata": {},
   "outputs": [],
   "source": [
    "import numpy as np\n",
    "import pandas as pd\n",
    "import datetime\n",
    "import calendar\n",
    "import string\n",
    "from scipy import sparse\n",
    "from nltk.corpus import stopwords\n",
    "from sklearn.model_selection import train_test_split\n",
    "from sklearn.metrics import mean_squared_error, mean_absolute_error\n",
    "from sklearn import neighbors\n",
    "from sklearn import metrics\n",
    "from sklearn.feature_extraction.text import CountVectorizer, TfidfTransformer, TfidfVectorizer\n",
    "from sklearn.linear_model import LogisticRegression\n",
    "from sklearn.naive_bayes import MultinomialNB\n",
    "from sklearn.pipeline import Pipeline\n",
    "from sklearn.tree import DecisionTreeClassifier\n",
    "from sklearn.ensemble import RandomForestClassifier\n",
    "\n",
    "import warnings\n",
    "with warnings.catch_warnings():\n",
    "    warnings.filterwarnings(\"ignore\", category=DeprecationWarning)\n",
    "    from sklearn import cross_validation\n",
    "    \n",
    "import seaborn as sns\n",
    "sns.set_style('whitegrid')\n",
    "import matplotlib.pyplot as plt\n",
    "%matplotlib inline"
   ]
  },
  {
   "cell_type": "markdown",
   "metadata": {},
   "source": [
    "The data from the link above comes in json files. Here we already opened and converted the files to a simple csv files. If youre having difficulties with it, do contact us at Yereya.b@Gmail.com and we will gladly send you the code we used."
   ]
  },
  {
   "cell_type": "code",
   "execution_count": 3,
   "metadata": {},
   "outputs": [],
   "source": [
    "reviews_df = pd.read_csv('reviews_df.csv')\n",
    "backup1 = reviews_df.copy()"
   ]
  },
  {
   "cell_type": "code",
   "execution_count": 4,
   "metadata": {},
   "outputs": [
    {
     "name": "stdout",
     "output_type": "stream",
     "text": [
      "<class 'pandas.core.frame.DataFrame'>\n",
      "RangeIndex: 160792 entries, 0 to 160791\n",
      "Data columns (total 10 columns):\n",
      "Unnamed: 0        160792 non-null int64\n",
      "reviewerID        160792 non-null object\n",
      "asin              160792 non-null object\n",
      "reviewerName      159427 non-null object\n",
      "helpful           160792 non-null object\n",
      "reviewText        160732 non-null object\n",
      "overall           160792 non-null float64\n",
      "summary           160792 non-null object\n",
      "unixReviewTime    160792 non-null int64\n",
      "reviewTime        160792 non-null object\n",
      "dtypes: float64(1), int64(2), object(7)\n",
      "memory usage: 12.3+ MB\n"
     ]
    },
    {
     "data": {
      "text/html": [
       "<div>\n",
       "<style scoped>\n",
       "    .dataframe tbody tr th:only-of-type {\n",
       "        vertical-align: middle;\n",
       "    }\n",
       "\n",
       "    .dataframe tbody tr th {\n",
       "        vertical-align: top;\n",
       "    }\n",
       "\n",
       "    .dataframe thead th {\n",
       "        text-align: right;\n",
       "    }\n",
       "</style>\n",
       "<table border=\"1\" class=\"dataframe\">\n",
       "  <thead>\n",
       "    <tr style=\"text-align: right;\">\n",
       "      <th></th>\n",
       "      <th>Unnamed: 0</th>\n",
       "      <th>reviewerID</th>\n",
       "      <th>asin</th>\n",
       "      <th>reviewerName</th>\n",
       "      <th>helpful</th>\n",
       "      <th>reviewText</th>\n",
       "      <th>overall</th>\n",
       "      <th>summary</th>\n",
       "      <th>unixReviewTime</th>\n",
       "      <th>reviewTime</th>\n",
       "    </tr>\n",
       "  </thead>\n",
       "  <tbody>\n",
       "    <tr>\n",
       "      <th>0</th>\n",
       "      <td>0</td>\n",
       "      <td>A1HK2FQW6KXQB2</td>\n",
       "      <td>097293751X</td>\n",
       "      <td>Amanda Johnsen \"Amanda E. Johnsen\"</td>\n",
       "      <td>[0, 0]</td>\n",
       "      <td>Perfect for new parents. We were able to keep ...</td>\n",
       "      <td>5.0</td>\n",
       "      <td>Awesine</td>\n",
       "      <td>1373932800</td>\n",
       "      <td>07 16, 2013</td>\n",
       "    </tr>\n",
       "    <tr>\n",
       "      <th>1</th>\n",
       "      <td>1</td>\n",
       "      <td>A19K65VY14D13R</td>\n",
       "      <td>097293751X</td>\n",
       "      <td>angela</td>\n",
       "      <td>[0, 0]</td>\n",
       "      <td>This book is such a life saver.  It has been s...</td>\n",
       "      <td>5.0</td>\n",
       "      <td>Should be required for all new parents!</td>\n",
       "      <td>1372464000</td>\n",
       "      <td>06 29, 2013</td>\n",
       "    </tr>\n",
       "    <tr>\n",
       "      <th>2</th>\n",
       "      <td>2</td>\n",
       "      <td>A2LL1TGG90977E</td>\n",
       "      <td>097293751X</td>\n",
       "      <td>Carter</td>\n",
       "      <td>[0, 0]</td>\n",
       "      <td>Helps me know exactly how my babies day has go...</td>\n",
       "      <td>5.0</td>\n",
       "      <td>Grandmother watching baby</td>\n",
       "      <td>1395187200</td>\n",
       "      <td>03 19, 2014</td>\n",
       "    </tr>\n",
       "    <tr>\n",
       "      <th>3</th>\n",
       "      <td>3</td>\n",
       "      <td>A5G19RYX8599E</td>\n",
       "      <td>097293751X</td>\n",
       "      <td>cfpurplerose</td>\n",
       "      <td>[0, 0]</td>\n",
       "      <td>I bought this a few times for my older son and...</td>\n",
       "      <td>5.0</td>\n",
       "      <td>repeat buyer</td>\n",
       "      <td>1376697600</td>\n",
       "      <td>08 17, 2013</td>\n",
       "    </tr>\n",
       "    <tr>\n",
       "      <th>4</th>\n",
       "      <td>4</td>\n",
       "      <td>A2496A4EWMLQ7</td>\n",
       "      <td>097293751X</td>\n",
       "      <td>C. Jeter</td>\n",
       "      <td>[0, 0]</td>\n",
       "      <td>I wanted an alternative to printing out daily ...</td>\n",
       "      <td>4.0</td>\n",
       "      <td>Great</td>\n",
       "      <td>1396310400</td>\n",
       "      <td>04 1, 2014</td>\n",
       "    </tr>\n",
       "  </tbody>\n",
       "</table>\n",
       "</div>"
      ],
      "text/plain": [
       "   Unnamed: 0      reviewerID        asin                        reviewerName  \\\n",
       "0           0  A1HK2FQW6KXQB2  097293751X  Amanda Johnsen \"Amanda E. Johnsen\"   \n",
       "1           1  A19K65VY14D13R  097293751X                              angela   \n",
       "2           2  A2LL1TGG90977E  097293751X                              Carter   \n",
       "3           3   A5G19RYX8599E  097293751X                        cfpurplerose   \n",
       "4           4   A2496A4EWMLQ7  097293751X                            C. Jeter   \n",
       "\n",
       "  helpful                                         reviewText  overall  \\\n",
       "0  [0, 0]  Perfect for new parents. We were able to keep ...      5.0   \n",
       "1  [0, 0]  This book is such a life saver.  It has been s...      5.0   \n",
       "2  [0, 0]  Helps me know exactly how my babies day has go...      5.0   \n",
       "3  [0, 0]  I bought this a few times for my older son and...      5.0   \n",
       "4  [0, 0]  I wanted an alternative to printing out daily ...      4.0   \n",
       "\n",
       "                                   summary  unixReviewTime   reviewTime  \n",
       "0                                  Awesine      1373932800  07 16, 2013  \n",
       "1  Should be required for all new parents!      1372464000  06 29, 2013  \n",
       "2                Grandmother watching baby      1395187200  03 19, 2014  \n",
       "3                             repeat buyer      1376697600  08 17, 2013  \n",
       "4                                    Great      1396310400   04 1, 2014  "
      ]
     },
     "execution_count": 4,
     "metadata": {},
     "output_type": "execute_result"
    }
   ],
   "source": [
    "reviews_df.info()\n",
    "reviews_df.head()"
   ]
  },
  {
   "cell_type": "markdown",
   "metadata": {},
   "source": [
    "### Preprocessing\n"
   ]
  },
  {
   "cell_type": "code",
   "execution_count": 5,
   "metadata": {},
   "outputs": [],
   "source": [
    "reviews_df = reviews_df[~pd.isnull(reviews_df['reviewText'])] # Deleting all the lines that has no reviewText\n",
    "reviews_df.drop_duplicates(subset=['reviewerID', 'asin', 'unixReviewTime'], inplace=True)\n",
    "reviews_df.drop('Unnamed: 0', axis=1, inplace=True)\n",
    "reviews_df.reset_index(inplace=True)\n",
    "\n",
    "reviews_df['helpful_numerator'] = reviews_df['helpful'].apply(lambda x: eval(x)[0])\n",
    "reviews_df['helpful_denominator'] = reviews_df['helpful'].apply(lambda x: eval(x)[1])\n",
    "reviews_df['helpful%'] = np.where(reviews_df['helpful_denominator'] > 0,\n",
    "                                  reviews_df['helpful_numerator'] / reviews_df['helpful_denominator'], -1)\n",
    "\n",
    "# Now to segment the values into bins\n",
    "reviews_df['helpfulness_range'] = pd.cut(x=reviews_df['helpful%'], bins=[-1, 0, 0.2, 0.4, 0.6, 0.8, 1.0],\n",
    "                                         labels=['empty', '1', '2', '3', '4', '5'], include_lowest=True)\n",
    "# org_reviews_df = reviews_df.copy()\n",
    "\n",
    "reviews_df.drop(reviews_df[reviews_df['helpfulness_range'] == 'empty'].index, inplace=True)\n",
    "reviews_df['helpfulness_range'] = reviews_df['helpfulness_range'].map({'1':1,\n",
    "                                                                       '2':2,\n",
    "                                                                       '3':3,\n",
    "                                                                       '4':4,\n",
    "                                                                       '5':5,\n",
    "                                                                       'empty':1})\n",
    "reviews_df.reset_index(drop=True, inplace=True)"
   ]
  },
  {
   "cell_type": "markdown",
   "metadata": {},
   "source": [
    "### EDA\n"
   ]
  },
  {
   "cell_type": "code",
   "execution_count": 6,
   "metadata": {},
   "outputs": [
    {
     "name": "stdout",
     "output_type": "stream",
     "text": [
      "review_weekday\n",
      "Friday       0.845707\n",
      "Monday       0.842031\n",
      "Saturday     0.841442\n",
      "Sunday       0.846644\n",
      "Thursday     0.842822\n",
      "Tuesday      0.843771\n",
      "Wednesday    0.841654\n",
      "Name: helpful%, dtype: float64\n"
     ]
    }
   ],
   "source": [
    "a = list(calendar.day_name)\n",
    "reviews_df['review_weekday'] = reviews_df['reviewTime'].apply(lambda x: datetime.datetime.strptime(str(x),'%m %d, %Y').weekday())\n",
    "reviews_df['review_weekday'] = reviews_df['review_weekday'].apply(lambda x: a[x])\n",
    "\n",
    "print(reviews_df.groupby('review_weekday')['helpful%'].mean())"
   ]
  },
  {
   "cell_type": "code",
   "execution_count": 22,
   "metadata": {
    "scrolled": true
   },
   "outputs": [
    {
     "data": {
      "text/plain": [
       "<matplotlib.axes._subplots.AxesSubplot at 0x1364222b860>"
      ]
     },
     "execution_count": 22,
     "metadata": {},
     "output_type": "execute_result"
    },
    {
     "data": {
      "image/png": "[encoded data removed]",
      "text/plain": [
       "<Figure size 720x504 with 1 Axes>"
      ]
     },
     "metadata": {},
     "output_type": "display_data"
    }
   ],
   "source": [
    "df1 = pd.DataFrame(reviews_df.groupby('helpfulness_range')['overall'].mean().reset_index())\n",
    "fig = plt.figure(figsize=(10,7))\n",
    "sns.barplot(x=df1['helpfulness_range'], y=df1['overall']) # there is a connection between high overall score and review score"
   ]
  },
  {
   "cell_type": "code",
   "execution_count": 27,
   "metadata": {},
   "outputs": [
    {
     "data": {
      "image/png": "[encoded data removed]",
      "text/plain": [
       "<Figure size 720x504 with 2 Axes>"
      ]
     },
     "metadata": {},
     "output_type": "display_data"
    }
   ],
   "source": [
    "df1 = reviews_df.groupby(['overall', 'helpfulness_range']).agg({'reviewerID': 'count'})\n",
    "df1 = df1.unstack()\n",
    "df1.columns = df1.columns.get_level_values(1)\n",
    "fig = plt.figure(figsize=(10,7))\n",
    "sns.heatmap(df1[df1.columns[::-1]].T, cmap = 'coolwarm', linewidths=.5, annot = True, fmt = 'd', cbar_kws={'label': '# reviews'})\n",
    "plt.title('How users helpfulness_range distribute over the user scores')\n",
    "plt.show()"
   ]
  },
  {
   "cell_type": "markdown",
   "metadata": {},
   "source": [
    "## RRP based on Review Text Content\n",
    "### Feature Engineering\n"
   ]
  },
  {
   "cell_type": "code",
   "execution_count": 30,
   "metadata": {},
   "outputs": [
    {
     "data": {
      "text/plain": [
       "5    31127\n",
       "3     7709\n",
       "4     7499\n",
       "2     1399\n",
       "1      300\n",
       "Name: helpfulness_range, dtype: int64"
      ]
     },
     "execution_count": 30,
     "metadata": {},
     "output_type": "execute_result"
    }
   ],
   "source": [
    "reviews_df['helpfulness_range'].value_counts()"
   ]
  },
  {
   "cell_type": "markdown",
   "metadata": {},
   "source": [
    "Notice that the data is really skewed, that means consider resampling!\n",
    "\n",
    "Now to define our text processor"
   ]
  },
  {
   "cell_type": "code",
   "execution_count": 31,
   "metadata": {},
   "outputs": [],
   "source": [
    "def text_process(reviewText):\n",
    "    nopunc = [i for i in reviewText if i not in string.punctuation]\n",
    "    nopunc_text = ''.join(nopunc)\n",
    "    return [i for i in nopunc_text.split() if i.lower() not in stopwords.words('english')]"
   ]
  },
  {
   "cell_type": "markdown",
   "metadata": {},
   "source": [
    "### The Models\n"
   ]
  },
  {
   "cell_type": "markdown",
   "metadata": {},
   "source": [
    "We will write down the code for all of the models but, becouse of the long time it will take them to run, we will not run them. Instead, we will copy the results from our PyCharm.\n",
    "\n",
    "We encourage you to run the code on your computer and check to see if you get the same results as us."
   ]
  },
  {
   "cell_type": "code",
   "execution_count": null,
   "metadata": {},
   "outputs": [],
   "source": [
    "# Benchmark model - multinomial logistic regression\n",
    "pipeline = Pipeline([\n",
    "    ('Tf-Idf', TfidfVectorizer(ngram_range=(1,2), analyzer=text_process)),\n",
    "    ('classifier', LogisticRegression(solver='newton-cg', multi_class='multinomial'))\n",
    "])\n",
    "X1 = reviews_df['reviewText']\n",
    "y1 = reviews_df['helpfulness_range']\n",
    "review_train1, review_test1, label_train1, label_test1 = train_test_split(X1, y1, test_size=0.3, random_state=101)\n",
    "pipeline.fit(review_train1, label_train1)\n",
    "pip_pred1 = pipeline.predict(review_test1)\n",
    "print(metrics.classification_report(label_test1,pip_pred1))"
   ]
  },
  {
   "cell_type": "code",
   "execution_count": null,
   "metadata": {},
   "outputs": [],
   "source": [
    "# First model try - Naive bayes\n",
    "pipeline = Pipeline([\n",
    "    ('Tf-Idf', TfidfVectorizer(ngram_range=(1,2), analyzer=text_process)),\n",
    "    ('classifier', MultinomialNB())\n",
    "])\n",
    "X2 = reviews_df['reviewText']\n",
    "y2 = reviews_df['helpfulness_range']\n",
    "review_train2, review_test2, label_train2, label_test2 = train_test_split(X2, y2, test_size=0.5)\n",
    "pipeline.fit(review_train2, label_train2)\n",
    "pip_pred2 = pipeline.predict(review_test2)\n",
    "print(metrics.classification_report(label_test2, pip_pred2))"
   ]
  },
  {
   "cell_type": "code",
   "execution_count": null,
   "metadata": {},
   "outputs": [],
   "source": [
    "# DecisionTreeClassifier\n",
    "pipeline = Pipeline([\n",
    "    ('Tf-Idf', TfidfVectorizer(ngram_range=(1,2), analyzer=text_process)),\n",
    "    ('classifier', DecisionTreeClassifier())\n",
    "])\n",
    "X3 = reviews_df['reviewText']\n",
    "y3 = reviews_df['helpfulness_range']\n",
    "review_train3, review_test3, label_train3, label_test3 = train_test_split(X3, y3, test_size=0.5)\n",
    "pipeline.fit(review_train3, label_train3)\n",
    "pip_pred3 = pipeline.predict(review_test3)\n",
    "print(metrics.classification_report(label_test3, pip_pred3))"
   ]
  },
  {
   "cell_type": "code",
   "execution_count": null,
   "metadata": {},
   "outputs": [],
   "source": [
    "# RandomForest\n",
    "pipeline = Pipeline([\n",
    "    ('Tf-Idf', TfidfVectorizer(ngram_range=(1,2), analyzer=text_process)),\n",
    "    ('classifier', RandomForestClassifier())\n",
    "])\n",
    "X4 = reviews_df['reviewText']\n",
    "y4 = reviews_df['helpfulness_range']\n",
    "review_train4, review_test4, label_train4, label_test4 = train_test_split(X4, y4, test_size=0.5)\n",
    "pipeline.fit(review_train4, label_train4)\n",
    "pip_pred4 = pipeline.predict(review_test4)\n",
    "print(metrics.classification_report(label_test4, pip_pred4))"
   ]
  },
  {
   "cell_type": "markdown",
   "metadata": {},
   "source": [
    "#### Scores\n",
    "\n",
    "(You should run this after each pipline)"
   ]
  },
  {
   "cell_type": "code",
   "execution_count": null,
   "metadata": {},
   "outputs": [],
   "source": [
    "scores = cross_validation.cross_val_score(pipeline, reviews_df['reviewText'], reviews_df['helpfulness_range'], cv=5)\n",
    "print(scores.mean())"
   ]
  },
  {
   "cell_type": "markdown",
   "metadata": {},
   "source": [
    "**RandomForest rank 0.59, MultinomialNB rank 0.61, DecisionTreeClassifier rank 0.44**\n",
    "\n",
    "So we will use the MultinomialNB prediction as our chosen prediction that was based on Review Text Content."
   ]
  },
  {
   "cell_type": "markdown",
   "metadata": {},
   "source": [
    "#### Export"
   ]
  },
  {
   "cell_type": "code",
   "execution_count": null,
   "metadata": {},
   "outputs": [],
   "source": [
    "rev_test_pred_NB_df = pd.DataFrame(data={'review_test': review_test2,\n",
    "                                         'prediction': pip_pred2})\n",
    "rev_test_pred_NB_df.to_csv('rev_test_pred_NB_df.csv')"
   ]
  },
  {
   "cell_type": "markdown",
   "metadata": {},
   "source": [
    "## RRP based on User Similarity\n",
    "### Preprocessing\n"
   ]
  },
  {
   "cell_type": "code",
   "execution_count": 35,
   "metadata": {},
   "outputs": [],
   "source": [
    "reviewers_rating_df = reviews_df[['reviewerID', 'asin', 'overall', 'helpfulness_range']].copy()\n",
    "reviewers_rating_df['overall'] = reviewers_rating_df['overall'].apply(int)\n",
    "\n",
    "# we need to convert the string names of reviewerID and asin to unique integers before we can generate a matrix\n",
    "\n",
    "temp_df = pd.DataFrame(np.unique(reviewers_rating_df['reviewerID']), columns=['unique_ID'])\n",
    "temp_df['unique_asin'] = pd.Series(np.unique(reviewers_rating_df['asin']))\n",
    "temp_df['unique_ID_int'] = range(20000, 35998)\n",
    "temp_df['unique_asin_int'] = range(1, 15999)\n",
    "\n",
    "reviewers_rating_df = pd.merge(reviewers_rating_df, temp_df.drop(['unique_asin', 'unique_asin_int'], axis=1),\n",
    "                               left_on='reviewerID', right_on='unique_ID')\n",
    "reviewers_rating_df = pd.merge(reviewers_rating_df, temp_df.drop(['unique_ID', 'unique_ID_int'], axis=1),\n",
    "                               left_on='asin', right_on='unique_asin')\n",
    "\n",
    "reviewers_rating_df['overall_rating'] = reviewers_rating_df['overall']\n",
    "id_asin_helpfulness_df = reviewers_rating_df[['reviewerID', 'unique_ID_int', 'helpfulness_range']].copy()\n",
    "reviewers_rating_df.drop(['asin', 'unique_asin', 'reviewerID', 'unique_ID', 'overall', 'helpfulness_range'], axis=1, inplace=True)"
   ]
  },
  {
   "cell_type": "markdown",
   "metadata": {},
   "source": [
    "### Feature Engineering"
   ]
  },
  {
   "cell_type": "code",
   "execution_count": null,
   "metadata": {},
   "outputs": [],
   "source": [
    "matrix = reviewers_rating_df.pivot(index='unique_ID_int', columns='unique_asin_int', values='overall_rating')\n",
    "matrix = matrix.fillna(0)\n",
    "user_item_matrix = sparse.csr_matrix(matrix.values)"
   ]
  },
  {
   "cell_type": "markdown",
   "metadata": {},
   "source": [
    "### KNN Model\n"
   ]
  },
  {
   "cell_type": "markdown",
   "metadata": {},
   "source": [
    "Again, we will not run the model. Instead, we will use the results from our PyCharm."
   ]
  },
  {
   "cell_type": "code",
   "execution_count": null,
   "metadata": {},
   "outputs": [],
   "source": [
    "model_knn = neighbors.NearestNeighbors(metric='cosine', algorithm='brute', n_neighbors=10)\n",
    "model_knn.fit(user_item_matrix)\n",
    "neighbors = np.asarray(model_knn.kneighbors(user_item_matrix, return_distance=False))"
   ]
  },
  {
   "cell_type": "code",
   "execution_count": null,
   "metadata": {},
   "outputs": [],
   "source": [
    "unique_id = []\n",
    "k_neigh = []\n",
    "for i in range(15998):\n",
    "    unique_id.append(i + 20000)\n",
    "    k_neigh.append(list(neighbors[i][1:10])) #Grabbing the ten closest neighbors\n",
    "\n",
    "neighbors_df = pd.DataFrame(data={'unique_ID_int': unique_id,\n",
    "                                  'k_neigh': k_neigh})\n",
    "\n",
    "id_asin_helpfulness_df = pd.merge(id_asin_helpfulness_df, neighbors_df, on='unique_ID_int')\n",
    "id_asin_helpfulness_df['neigh_based_helpf'] = id_asin_helpfulness_df['unique_ID_int']"
   ]
  },
  {
   "cell_type": "code",
   "execution_count": null,
   "metadata": {},
   "outputs": [],
   "source": [
    "# Calculating the mean score of the reviews that the reviewers in 'k_neigh' wrote\n",
    "for index, row in id_asin_helpfulness_df.iterrows():\n",
    "    row = row['k_neigh']\n",
    "    lista = []\n",
    "    for i in row:\n",
    "        p = id_asin_helpfulness_df.loc[i]['helpfulness_range']\n",
    "        lista.append(p)\n",
    "    id_asin_helpfulness_df.loc[index, 'neigh_based_helpf'] = np.nanmean(lista)"
   ]
  },
  {
   "cell_type": "markdown",
   "metadata": {},
   "source": [
    "#### Export"
   ]
  },
  {
   "cell_type": "code",
   "execution_count": null,
   "metadata": {},
   "outputs": [],
   "source": [
    "final_df = id_asin_helpfulness_df[['reviewerID', 'unique_ID_int', 'helpfulness_range', 'neigh_based_helpf']]\n",
    "final_df.to_csv('final.csv')"
   ]
  },
  {
   "cell_type": "markdown",
   "metadata": {},
   "source": [
    "## Reporting the results"
   ]
  },
  {
   "cell_type": "markdown",
   "metadata": {},
   "source": [
    "We merged the two dataframes in the background. Email us if you need the code to do so."
   ]
  },
  {
   "cell_type": "code",
   "execution_count": 38,
   "metadata": {},
   "outputs": [
    {
     "name": "stdout",
     "output_type": "stream",
     "text": [
      "RMSE for neigh_based_helpf: 1.0338002581383618\n",
      "RMSE for NBprediction: 1.074619472976386\n",
      "RMSE for the combination of the twe methods: 0.9920521481819871\n",
      "MAE for the combined prediction: 0.6618020568763793\n"
     ]
    }
   ],
   "source": [
    "df = pd.read_csv('final_after_merges.csv')\n",
    "print('RMSE for neigh_based_helpf:', np.sqrt(mean_squared_error(df['helpfulness_range'], df['neigh_based_helpf'])))\n",
    "print('RMSE for NBprediction:', np.sqrt(mean_squared_error(df['helpfulness_range'], df['NBprediction'])))\n",
    "print('RMSE for the combination of the twe methods:', np.sqrt(mean_squared_error(df['helpfulness_range'], df['mean_neigh_NB'])))\n",
    "print('MAE for the combined prediction:', mean_absolute_error(df['helpfulness_range'], df['mean_neigh_NB']))"
   ]
  },
  {
   "cell_type": "markdown",
   "metadata": {},
   "source": [
    "As it turns out, **our thesis was right** and combining the formerly known data about each user's similarity to other users, with the sentiment analysis of the review text itself, does help improve the model prediction of what rate the user's review will get.\n",
    "\n",
    "(Although MAE of 0.66 is not so good here, the main aim of this work was to check the thesis. Not necessarily to seek the best RRP model)"
   ]
  },
  {
   "cell_type": "code",
   "execution_count": null,
   "metadata": {},
   "outputs": [],
   "source": []
  }
 ],
 "metadata": {
  "kernelspec": {
   "display_name": "Python 3",
   "language": "python",
   "name": "python3"
  },
  "language_info": {
   "codemirror_mode": {
    "name": "ipython",
    "version": 3
   },
   "file_extension": ".py",
   "mimetype": "text/x-python",
   "name": "python",
   "nbconvert_exporter": "python",
   "pygments_lexer": "ipython3",
   "version": "3.6.5"
  }
 },
 "nbformat": 4,
 "nbformat_minor": 2
}
